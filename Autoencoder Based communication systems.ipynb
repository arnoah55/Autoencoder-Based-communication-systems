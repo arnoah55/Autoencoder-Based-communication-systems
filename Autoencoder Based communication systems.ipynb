{
 "cells": [
  {
   "cell_type": "markdown",
   "id": "325dc83c-f6e7-40b2-923f-de9977873ae7",
   "metadata": {},
   "source": [
    "# Autoencoder Based communication systems"
   ]
  },
  {
   "cell_type": "code",
   "execution_count": 340,
   "id": "8929ed3e-47ed-4c69-8252-ff946c1e074c",
   "metadata": {},
   "outputs": [],
   "source": [
    "import numpy as np\n",
    "import tensorflow as tf\n",
    "import matplotlib.pyplot as plt\n",
    "from tensorflow.keras import layers, Model"
   ]
  },
  {
   "cell_type": "markdown",
   "id": "e854df5b-f4a6-495b-b5e3-87481fd3aea9",
   "metadata": {},
   "source": [
    "## Hyper‑parameters for input and channel dimentions"
   ]
  },
  {
   "cell_type": "code",
   "execution_count": 341,
   "id": "fe780509-99d4-40a6-8c89-5dd9b71b4f74",
   "metadata": {},
   "outputs": [],
   "source": [
    "k = 10    # bits per message\n",
    "M = 2**k              # number of possible messages (=> k = log2(M) information bits)\n",
    "n = 15                 # channel uses (codeword length)\n",
    "R = k / n              # code rate\n",
    "training_EbN0_dB = 5   # SNR at which to train (dB)\n",
    "training_EbN0 = 10 ** (training_EbN0_dB / 10)\n",
    "sigma_train = np.sqrt(1 / (2 * R * training_EbN0))  # noise std for training\n",
    "\n",
    "np.random.seed(0)\n",
    "tf.random.set_seed(0)"
   ]
  },
  {
   "cell_type": "code",
   "execution_count": 342,
   "id": "e7bbedb4-c50d-4bf3-a439-fb30a4c80feb",
   "metadata": {},
   "outputs": [],
   "source": [
    "# --- Data for training ---\n",
    "num_train = 40000\n",
    "labels = np.random.randint(0, M, size=num_train)\n",
    "one_hot = tf.one_hot(labels, depth=M).numpy()"
   ]
  },
  {
   "cell_type": "markdown",
   "id": "55968d11-bf64-4bc1-8679-65489c0d875f",
   "metadata": {},
   "source": [
    "## power‑normalisation to satisfy E[|x|^2] <= 1"
   ]
  },
  {
   "cell_type": "code",
   "execution_count": 343,
   "id": "84c99111-ce09-4bbc-8cdb-189f4b6e7e8f",
   "metadata": {},
   "outputs": [],
   "source": [
    "def power_norm(v):\n",
    "    eps = 1e-7\n",
    "    power = tf.reduce_mean(tf.square(v), axis=1, keepdims=True)\n",
    "    v_norm = v / tf.sqrt(power + eps)\n",
    "    return v_norm\n"
   ]
  },
  {
   "cell_type": "markdown",
   "id": "f693ee42-9c88-490c-aa92-df53f964ca08",
   "metadata": {},
   "source": [
    "## Noise layer"
   ]
  },
  {
   "cell_type": "code",
   "execution_count": 344,
   "id": "d42d3840-a22c-4a90-a92f-48d1a354c69a",
   "metadata": {},
   "outputs": [],
   "source": [
    "def add_noise(v):\n",
    "    noise = tf.random.normal(tf.shape(v), mean=0.0, stddev=sigma_train)\n",
    "    return v + noise"
   ]
  },
  {
   "cell_type": "markdown",
   "id": "5388f4b9-53da-4756-8bc5-785802dbf410",
   "metadata": {},
   "source": [
    "# Autoencoder Architecture "
   ]
  },
  {
   "cell_type": "code",
   "execution_count": 345,
   "id": "c5f6cd7f-f9bb-4a85-b888-b69f1eaebe35",
   "metadata": {},
   "outputs": [
    {
     "data": {
      "text/html": [
       "<pre style=\"white-space:pre;overflow-x:auto;line-height:normal;font-family:Menlo,'DejaVu Sans Mono',consolas,'Courier New',monospace\"><span style=\"font-weight: bold\">Model: \"functional_120\"</span>\n",
       "</pre>\n"
      ],
      "text/plain": [
       "\u001b[1mModel: \"functional_120\"\u001b[0m\n"
      ]
     },
     "metadata": {},
     "output_type": "display_data"
    },
    {
     "data": {
      "text/html": [
       "<pre style=\"white-space:pre;overflow-x:auto;line-height:normal;font-family:Menlo,'DejaVu Sans Mono',consolas,'Courier New',monospace\">┏━━━━━━━━━━━━━━━━━━━━━━━━━━━━━━━━━┳━━━━━━━━━━━━━━━━━━━━━━━━┳━━━━━━━━━━━━━━━┓\n",
       "┃<span style=\"font-weight: bold\"> Layer (type)                    </span>┃<span style=\"font-weight: bold\"> Output Shape           </span>┃<span style=\"font-weight: bold\">       Param # </span>┃\n",
       "┡━━━━━━━━━━━━━━━━━━━━━━━━━━━━━━━━━╇━━━━━━━━━━━━━━━━━━━━━━━━╇━━━━━━━━━━━━━━━┩\n",
       "│ input_layer_62 (<span style=\"color: #0087ff; text-decoration-color: #0087ff\">InputLayer</span>)     │ (<span style=\"color: #00d7ff; text-decoration-color: #00d7ff\">None</span>, <span style=\"color: #00af00; text-decoration-color: #00af00\">1024</span>)           │             <span style=\"color: #00af00; text-decoration-color: #00af00\">0</span> │\n",
       "├─────────────────────────────────┼────────────────────────┼───────────────┤\n",
       "│ dense_278 (<span style=\"color: #0087ff; text-decoration-color: #0087ff\">Dense</span>)               │ (<span style=\"color: #00d7ff; text-decoration-color: #00d7ff\">None</span>, <span style=\"color: #00af00; text-decoration-color: #00af00\">32</span>)             │        <span style=\"color: #00af00; text-decoration-color: #00af00\">32,800</span> │\n",
       "├─────────────────────────────────┼────────────────────────┼───────────────┤\n",
       "│ dense_279 (<span style=\"color: #0087ff; text-decoration-color: #0087ff\">Dense</span>)               │ (<span style=\"color: #00d7ff; text-decoration-color: #00d7ff\">None</span>, <span style=\"color: #00af00; text-decoration-color: #00af00\">15</span>)             │           <span style=\"color: #00af00; text-decoration-color: #00af00\">495</span> │\n",
       "├─────────────────────────────────┼────────────────────────┼───────────────┤\n",
       "│ lambda_127 (<span style=\"color: #0087ff; text-decoration-color: #0087ff\">Lambda</span>)             │ (<span style=\"color: #00d7ff; text-decoration-color: #00d7ff\">None</span>, <span style=\"color: #00af00; text-decoration-color: #00af00\">15</span>)             │             <span style=\"color: #00af00; text-decoration-color: #00af00\">0</span> │\n",
       "├─────────────────────────────────┼────────────────────────┼───────────────┤\n",
       "│ lambda_128 (<span style=\"color: #0087ff; text-decoration-color: #0087ff\">Lambda</span>)             │ (<span style=\"color: #00d7ff; text-decoration-color: #00d7ff\">None</span>, <span style=\"color: #00af00; text-decoration-color: #00af00\">15</span>)             │             <span style=\"color: #00af00; text-decoration-color: #00af00\">0</span> │\n",
       "├─────────────────────────────────┼────────────────────────┼───────────────┤\n",
       "│ dense_280 (<span style=\"color: #0087ff; text-decoration-color: #0087ff\">Dense</span>)               │ (<span style=\"color: #00d7ff; text-decoration-color: #00d7ff\">None</span>, <span style=\"color: #00af00; text-decoration-color: #00af00\">32</span>)             │           <span style=\"color: #00af00; text-decoration-color: #00af00\">512</span> │\n",
       "├─────────────────────────────────┼────────────────────────┼───────────────┤\n",
       "│ dense_281 (<span style=\"color: #0087ff; text-decoration-color: #0087ff\">Dense</span>)               │ (<span style=\"color: #00d7ff; text-decoration-color: #00d7ff\">None</span>, <span style=\"color: #00af00; text-decoration-color: #00af00\">1024</span>)           │        <span style=\"color: #00af00; text-decoration-color: #00af00\">33,792</span> │\n",
       "└─────────────────────────────────┴────────────────────────┴───────────────┘\n",
       "</pre>\n"
      ],
      "text/plain": [
       "┏━━━━━━━━━━━━━━━━━━━━━━━━━━━━━━━━━┳━━━━━━━━━━━━━━━━━━━━━━━━┳━━━━━━━━━━━━━━━┓\n",
       "┃\u001b[1m \u001b[0m\u001b[1mLayer (type)                   \u001b[0m\u001b[1m \u001b[0m┃\u001b[1m \u001b[0m\u001b[1mOutput Shape          \u001b[0m\u001b[1m \u001b[0m┃\u001b[1m \u001b[0m\u001b[1m      Param #\u001b[0m\u001b[1m \u001b[0m┃\n",
       "┡━━━━━━━━━━━━━━━━━━━━━━━━━━━━━━━━━╇━━━━━━━━━━━━━━━━━━━━━━━━╇━━━━━━━━━━━━━━━┩\n",
       "│ input_layer_62 (\u001b[38;5;33mInputLayer\u001b[0m)     │ (\u001b[38;5;45mNone\u001b[0m, \u001b[38;5;34m1024\u001b[0m)           │             \u001b[38;5;34m0\u001b[0m │\n",
       "├─────────────────────────────────┼────────────────────────┼───────────────┤\n",
       "│ dense_278 (\u001b[38;5;33mDense\u001b[0m)               │ (\u001b[38;5;45mNone\u001b[0m, \u001b[38;5;34m32\u001b[0m)             │        \u001b[38;5;34m32,800\u001b[0m │\n",
       "├─────────────────────────────────┼────────────────────────┼───────────────┤\n",
       "│ dense_279 (\u001b[38;5;33mDense\u001b[0m)               │ (\u001b[38;5;45mNone\u001b[0m, \u001b[38;5;34m15\u001b[0m)             │           \u001b[38;5;34m495\u001b[0m │\n",
       "├─────────────────────────────────┼────────────────────────┼───────────────┤\n",
       "│ lambda_127 (\u001b[38;5;33mLambda\u001b[0m)             │ (\u001b[38;5;45mNone\u001b[0m, \u001b[38;5;34m15\u001b[0m)             │             \u001b[38;5;34m0\u001b[0m │\n",
       "├─────────────────────────────────┼────────────────────────┼───────────────┤\n",
       "│ lambda_128 (\u001b[38;5;33mLambda\u001b[0m)             │ (\u001b[38;5;45mNone\u001b[0m, \u001b[38;5;34m15\u001b[0m)             │             \u001b[38;5;34m0\u001b[0m │\n",
       "├─────────────────────────────────┼────────────────────────┼───────────────┤\n",
       "│ dense_280 (\u001b[38;5;33mDense\u001b[0m)               │ (\u001b[38;5;45mNone\u001b[0m, \u001b[38;5;34m32\u001b[0m)             │           \u001b[38;5;34m512\u001b[0m │\n",
       "├─────────────────────────────────┼────────────────────────┼───────────────┤\n",
       "│ dense_281 (\u001b[38;5;33mDense\u001b[0m)               │ (\u001b[38;5;45mNone\u001b[0m, \u001b[38;5;34m1024\u001b[0m)           │        \u001b[38;5;34m33,792\u001b[0m │\n",
       "└─────────────────────────────────┴────────────────────────┴───────────────┘\n"
      ]
     },
     "metadata": {},
     "output_type": "display_data"
    },
    {
     "data": {
      "text/html": [
       "<pre style=\"white-space:pre;overflow-x:auto;line-height:normal;font-family:Menlo,'DejaVu Sans Mono',consolas,'Courier New',monospace\"><span style=\"font-weight: bold\"> Total params: </span><span style=\"color: #00af00; text-decoration-color: #00af00\">67,599</span> (264.06 KB)\n",
       "</pre>\n"
      ],
      "text/plain": [
       "\u001b[1m Total params: \u001b[0m\u001b[38;5;34m67,599\u001b[0m (264.06 KB)\n"
      ]
     },
     "metadata": {},
     "output_type": "display_data"
    },
    {
     "data": {
      "text/html": [
       "<pre style=\"white-space:pre;overflow-x:auto;line-height:normal;font-family:Menlo,'DejaVu Sans Mono',consolas,'Courier New',monospace\"><span style=\"font-weight: bold\"> Trainable params: </span><span style=\"color: #00af00; text-decoration-color: #00af00\">67,599</span> (264.06 KB)\n",
       "</pre>\n"
      ],
      "text/plain": [
       "\u001b[1m Trainable params: \u001b[0m\u001b[38;5;34m67,599\u001b[0m (264.06 KB)\n"
      ]
     },
     "metadata": {},
     "output_type": "display_data"
    },
    {
     "data": {
      "text/html": [
       "<pre style=\"white-space:pre;overflow-x:auto;line-height:normal;font-family:Menlo,'DejaVu Sans Mono',consolas,'Courier New',monospace\"><span style=\"font-weight: bold\"> Non-trainable params: </span><span style=\"color: #00af00; text-decoration-color: #00af00\">0</span> (0.00 B)\n",
       "</pre>\n"
      ],
      "text/plain": [
       "\u001b[1m Non-trainable params: \u001b[0m\u001b[38;5;34m0\u001b[0m (0.00 B)\n"
      ]
     },
     "metadata": {},
     "output_type": "display_data"
    }
   ],
   "source": [
    "# --- Build encoder ---\n",
    "inputs = layers.Input(shape=(M,))  # one‑hot\n",
    "x = layers.Dense(32, activation='relu')(inputs)\n",
    "x = layers.Dense(n, activation='linear')(x)\n",
    "\n",
    "# power‑normalisation to satisfy E[|x|^2] <= 1\n",
    "encoded = layers.Lambda(power_norm)(x)\n",
    "\n",
    "# --- Noise layer ---\n",
    "noisy = layers.Lambda(add_noise)(encoded)\n",
    "\n",
    "# --- Decoder ---\n",
    "y = layers.Dense(32, activation='relu')(noisy)\n",
    "outputs = layers.Dense(M, activation='softmax')(y)\n",
    "\n",
    "autoencoder = Model(inputs, outputs)\n",
    "autoencoder.summary()"
   ]
  },
  {
   "cell_type": "markdown",
   "id": "34fd0ed3-95f6-4449-a4ea-8d49ebad8109",
   "metadata": {},
   "source": [
    "## Training"
   ]
  },
  {
   "cell_type": "code",
   "execution_count": 346,
   "id": "75812d2a-b96b-440f-89c6-dde7a3a5015b",
   "metadata": {},
   "outputs": [
    {
     "name": "stdout",
     "output_type": "stream",
     "text": [
      "Epoch 1/20\n",
      "157/157 - 1s - 5ms/step - accuracy: 0.1108 - loss: 6.0112\n",
      "Epoch 2/20\n",
      "157/157 - 0s - 3ms/step - accuracy: 0.5114 - loss: 3.7290\n",
      "Epoch 3/20\n",
      "157/157 - 0s - 3ms/step - accuracy: 0.7800 - loss: 2.1147\n",
      "Epoch 4/20\n",
      "157/157 - 0s - 3ms/step - accuracy: 0.8864 - loss: 1.2238\n",
      "Epoch 5/20\n",
      "157/157 - 0s - 3ms/step - accuracy: 0.9280 - loss: 0.7645\n",
      "Epoch 6/20\n",
      "157/157 - 0s - 3ms/step - accuracy: 0.9439 - loss: 0.5313\n",
      "Epoch 7/20\n",
      "157/157 - 0s - 3ms/step - accuracy: 0.9539 - loss: 0.4020\n",
      "Epoch 8/20\n",
      "157/157 - 0s - 3ms/step - accuracy: 0.9613 - loss: 0.3141\n",
      "Epoch 9/20\n",
      "157/157 - 0s - 3ms/step - accuracy: 0.9641 - loss: 0.2614\n",
      "Epoch 10/20\n",
      "157/157 - 0s - 3ms/step - accuracy: 0.9683 - loss: 0.2229\n",
      "Epoch 11/20\n",
      "157/157 - 0s - 3ms/step - accuracy: 0.9717 - loss: 0.1925\n",
      "Epoch 12/20\n",
      "157/157 - 0s - 3ms/step - accuracy: 0.9721 - loss: 0.1751\n",
      "Epoch 13/20\n",
      "157/157 - 0s - 3ms/step - accuracy: 0.9758 - loss: 0.1543\n",
      "Epoch 14/20\n",
      "157/157 - 0s - 3ms/step - accuracy: 0.9758 - loss: 0.1414\n",
      "Epoch 15/20\n",
      "157/157 - 0s - 3ms/step - accuracy: 0.9761 - loss: 0.1321\n",
      "Epoch 16/20\n",
      "157/157 - 0s - 3ms/step - accuracy: 0.9774 - loss: 0.1211\n",
      "Epoch 17/20\n",
      "157/157 - 0s - 3ms/step - accuracy: 0.9784 - loss: 0.1156\n",
      "Epoch 18/20\n",
      "157/157 - 0s - 3ms/step - accuracy: 0.9787 - loss: 0.1076\n",
      "Epoch 19/20\n",
      "157/157 - 0s - 3ms/step - accuracy: 0.9797 - loss: 0.0998\n",
      "Epoch 20/20\n",
      "157/157 - 0s - 3ms/step - accuracy: 0.9796 - loss: 0.0973\n"
     ]
    }
   ],
   "source": [
    "autoencoder.compile(optimizer='adam', loss='categorical_crossentropy', metrics=['accuracy'])\n",
    "x=autoencoder.fit(one_hot, one_hot,epochs=20,batch_size=256,verbose=2)\n",
    "# Define encoder model (input → normalized encoded signal)\n",
    "encoder = tf.keras.Model(autoencoder.input, autoencoder.layers[3].output)"
   ]
  },
  {
   "cell_type": "markdown",
   "id": "6bf7e80b-491a-484c-8210-d3460e0d24ae",
   "metadata": {},
   "source": [
    "# Variational Autoencoder Architecture"
   ]
  },
  {
   "cell_type": "code",
   "execution_count": 347,
   "id": "93f7a488-862d-4c33-9cc7-ef6310c86812",
   "metadata": {},
   "outputs": [
    {
     "data": {
      "text/html": [
       "<pre style=\"white-space:pre;overflow-x:auto;line-height:normal;font-family:Menlo,'DejaVu Sans Mono',consolas,'Courier New',monospace\"><span style=\"font-weight: bold\">Model: \"functional_122\"</span>\n",
       "</pre>\n"
      ],
      "text/plain": [
       "\u001b[1mModel: \"functional_122\"\u001b[0m\n"
      ]
     },
     "metadata": {},
     "output_type": "display_data"
    },
    {
     "data": {
      "text/html": [
       "<pre style=\"white-space:pre;overflow-x:auto;line-height:normal;font-family:Menlo,'DejaVu Sans Mono',consolas,'Courier New',monospace\">┏━━━━━━━━━━━━━━━━━━━━━┳━━━━━━━━━━━━━━━━━━━┳━━━━━━━━━━━━┳━━━━━━━━━━━━━━━━━━━┓\n",
       "┃<span style=\"font-weight: bold\"> Layer (type)        </span>┃<span style=\"font-weight: bold\"> Output Shape      </span>┃<span style=\"font-weight: bold\">    Param # </span>┃<span style=\"font-weight: bold\"> Connected to      </span>┃\n",
       "┡━━━━━━━━━━━━━━━━━━━━━╇━━━━━━━━━━━━━━━━━━━╇━━━━━━━━━━━━╇━━━━━━━━━━━━━━━━━━━┩\n",
       "│ input_layer_63      │ (<span style=\"color: #00d7ff; text-decoration-color: #00d7ff\">None</span>, <span style=\"color: #00af00; text-decoration-color: #00af00\">1024</span>)      │          <span style=\"color: #00af00; text-decoration-color: #00af00\">0</span> │ -                 │\n",
       "│ (<span style=\"color: #0087ff; text-decoration-color: #0087ff\">InputLayer</span>)        │                   │            │                   │\n",
       "├─────────────────────┼───────────────────┼────────────┼───────────────────┤\n",
       "│ dense_282 (<span style=\"color: #0087ff; text-decoration-color: #0087ff\">Dense</span>)   │ (<span style=\"color: #00d7ff; text-decoration-color: #00d7ff\">None</span>, <span style=\"color: #00af00; text-decoration-color: #00af00\">32</span>)        │     <span style=\"color: #00af00; text-decoration-color: #00af00\">32,800</span> │ input_layer_63[<span style=\"color: #00af00; text-decoration-color: #00af00\">0</span>… │\n",
       "├─────────────────────┼───────────────────┼────────────┼───────────────────┤\n",
       "│ dense_283 (<span style=\"color: #0087ff; text-decoration-color: #0087ff\">Dense</span>)   │ (<span style=\"color: #00d7ff; text-decoration-color: #00d7ff\">None</span>, <span style=\"color: #00af00; text-decoration-color: #00af00\">15</span>)        │        <span style=\"color: #00af00; text-decoration-color: #00af00\">495</span> │ dense_282[<span style=\"color: #00af00; text-decoration-color: #00af00\">0</span>][<span style=\"color: #00af00; text-decoration-color: #00af00\">0</span>]   │\n",
       "├─────────────────────┼───────────────────┼────────────┼───────────────────┤\n",
       "│ dense_284 (<span style=\"color: #0087ff; text-decoration-color: #0087ff\">Dense</span>)   │ (<span style=\"color: #00d7ff; text-decoration-color: #00d7ff\">None</span>, <span style=\"color: #00af00; text-decoration-color: #00af00\">15</span>)        │        <span style=\"color: #00af00; text-decoration-color: #00af00\">495</span> │ dense_282[<span style=\"color: #00af00; text-decoration-color: #00af00\">0</span>][<span style=\"color: #00af00; text-decoration-color: #00af00\">0</span>]   │\n",
       "├─────────────────────┼───────────────────┼────────────┼───────────────────┤\n",
       "│ sampling_28         │ (<span style=\"color: #00d7ff; text-decoration-color: #00d7ff\">None</span>, <span style=\"color: #00af00; text-decoration-color: #00af00\">15</span>)        │          <span style=\"color: #00af00; text-decoration-color: #00af00\">0</span> │ dense_283[<span style=\"color: #00af00; text-decoration-color: #00af00\">0</span>][<span style=\"color: #00af00; text-decoration-color: #00af00\">0</span>],  │\n",
       "│ (<span style=\"color: #0087ff; text-decoration-color: #0087ff\">Sampling</span>)          │                   │            │ dense_284[<span style=\"color: #00af00; text-decoration-color: #00af00\">0</span>][<span style=\"color: #00af00; text-decoration-color: #00af00\">0</span>]   │\n",
       "├─────────────────────┼───────────────────┼────────────┼───────────────────┤\n",
       "│ lambda_129 (<span style=\"color: #0087ff; text-decoration-color: #0087ff\">Lambda</span>) │ (<span style=\"color: #00d7ff; text-decoration-color: #00d7ff\">None</span>, <span style=\"color: #00af00; text-decoration-color: #00af00\">15</span>)        │          <span style=\"color: #00af00; text-decoration-color: #00af00\">0</span> │ sampling_28[<span style=\"color: #00af00; text-decoration-color: #00af00\">0</span>][<span style=\"color: #00af00; text-decoration-color: #00af00\">0</span>] │\n",
       "├─────────────────────┼───────────────────┼────────────┼───────────────────┤\n",
       "│ lambda_130 (<span style=\"color: #0087ff; text-decoration-color: #0087ff\">Lambda</span>) │ (<span style=\"color: #00d7ff; text-decoration-color: #00d7ff\">None</span>, <span style=\"color: #00af00; text-decoration-color: #00af00\">15</span>)        │          <span style=\"color: #00af00; text-decoration-color: #00af00\">0</span> │ lambda_129[<span style=\"color: #00af00; text-decoration-color: #00af00\">0</span>][<span style=\"color: #00af00; text-decoration-color: #00af00\">0</span>]  │\n",
       "├─────────────────────┼───────────────────┼────────────┼───────────────────┤\n",
       "│ dense_285 (<span style=\"color: #0087ff; text-decoration-color: #0087ff\">Dense</span>)   │ (<span style=\"color: #00d7ff; text-decoration-color: #00d7ff\">None</span>, <span style=\"color: #00af00; text-decoration-color: #00af00\">32</span>)        │        <span style=\"color: #00af00; text-decoration-color: #00af00\">512</span> │ lambda_130[<span style=\"color: #00af00; text-decoration-color: #00af00\">0</span>][<span style=\"color: #00af00; text-decoration-color: #00af00\">0</span>]  │\n",
       "├─────────────────────┼───────────────────┼────────────┼───────────────────┤\n",
       "│ dense_286 (<span style=\"color: #0087ff; text-decoration-color: #0087ff\">Dense</span>)   │ (<span style=\"color: #00d7ff; text-decoration-color: #00d7ff\">None</span>, <span style=\"color: #00af00; text-decoration-color: #00af00\">1024</span>)      │     <span style=\"color: #00af00; text-decoration-color: #00af00\">33,792</span> │ dense_285[<span style=\"color: #00af00; text-decoration-color: #00af00\">0</span>][<span style=\"color: #00af00; text-decoration-color: #00af00\">0</span>]   │\n",
       "└─────────────────────┴───────────────────┴────────────┴───────────────────┘\n",
       "</pre>\n"
      ],
      "text/plain": [
       "┏━━━━━━━━━━━━━━━━━━━━━┳━━━━━━━━━━━━━━━━━━━┳━━━━━━━━━━━━┳━━━━━━━━━━━━━━━━━━━┓\n",
       "┃\u001b[1m \u001b[0m\u001b[1mLayer (type)       \u001b[0m\u001b[1m \u001b[0m┃\u001b[1m \u001b[0m\u001b[1mOutput Shape     \u001b[0m\u001b[1m \u001b[0m┃\u001b[1m \u001b[0m\u001b[1m   Param #\u001b[0m\u001b[1m \u001b[0m┃\u001b[1m \u001b[0m\u001b[1mConnected to     \u001b[0m\u001b[1m \u001b[0m┃\n",
       "┡━━━━━━━━━━━━━━━━━━━━━╇━━━━━━━━━━━━━━━━━━━╇━━━━━━━━━━━━╇━━━━━━━━━━━━━━━━━━━┩\n",
       "│ input_layer_63      │ (\u001b[38;5;45mNone\u001b[0m, \u001b[38;5;34m1024\u001b[0m)      │          \u001b[38;5;34m0\u001b[0m │ -                 │\n",
       "│ (\u001b[38;5;33mInputLayer\u001b[0m)        │                   │            │                   │\n",
       "├─────────────────────┼───────────────────┼────────────┼───────────────────┤\n",
       "│ dense_282 (\u001b[38;5;33mDense\u001b[0m)   │ (\u001b[38;5;45mNone\u001b[0m, \u001b[38;5;34m32\u001b[0m)        │     \u001b[38;5;34m32,800\u001b[0m │ input_layer_63[\u001b[38;5;34m0\u001b[0m… │\n",
       "├─────────────────────┼───────────────────┼────────────┼───────────────────┤\n",
       "│ dense_283 (\u001b[38;5;33mDense\u001b[0m)   │ (\u001b[38;5;45mNone\u001b[0m, \u001b[38;5;34m15\u001b[0m)        │        \u001b[38;5;34m495\u001b[0m │ dense_282[\u001b[38;5;34m0\u001b[0m][\u001b[38;5;34m0\u001b[0m]   │\n",
       "├─────────────────────┼───────────────────┼────────────┼───────────────────┤\n",
       "│ dense_284 (\u001b[38;5;33mDense\u001b[0m)   │ (\u001b[38;5;45mNone\u001b[0m, \u001b[38;5;34m15\u001b[0m)        │        \u001b[38;5;34m495\u001b[0m │ dense_282[\u001b[38;5;34m0\u001b[0m][\u001b[38;5;34m0\u001b[0m]   │\n",
       "├─────────────────────┼───────────────────┼────────────┼───────────────────┤\n",
       "│ sampling_28         │ (\u001b[38;5;45mNone\u001b[0m, \u001b[38;5;34m15\u001b[0m)        │          \u001b[38;5;34m0\u001b[0m │ dense_283[\u001b[38;5;34m0\u001b[0m][\u001b[38;5;34m0\u001b[0m],  │\n",
       "│ (\u001b[38;5;33mSampling\u001b[0m)          │                   │            │ dense_284[\u001b[38;5;34m0\u001b[0m][\u001b[38;5;34m0\u001b[0m]   │\n",
       "├─────────────────────┼───────────────────┼────────────┼───────────────────┤\n",
       "│ lambda_129 (\u001b[38;5;33mLambda\u001b[0m) │ (\u001b[38;5;45mNone\u001b[0m, \u001b[38;5;34m15\u001b[0m)        │          \u001b[38;5;34m0\u001b[0m │ sampling_28[\u001b[38;5;34m0\u001b[0m][\u001b[38;5;34m0\u001b[0m] │\n",
       "├─────────────────────┼───────────────────┼────────────┼───────────────────┤\n",
       "│ lambda_130 (\u001b[38;5;33mLambda\u001b[0m) │ (\u001b[38;5;45mNone\u001b[0m, \u001b[38;5;34m15\u001b[0m)        │          \u001b[38;5;34m0\u001b[0m │ lambda_129[\u001b[38;5;34m0\u001b[0m][\u001b[38;5;34m0\u001b[0m]  │\n",
       "├─────────────────────┼───────────────────┼────────────┼───────────────────┤\n",
       "│ dense_285 (\u001b[38;5;33mDense\u001b[0m)   │ (\u001b[38;5;45mNone\u001b[0m, \u001b[38;5;34m32\u001b[0m)        │        \u001b[38;5;34m512\u001b[0m │ lambda_130[\u001b[38;5;34m0\u001b[0m][\u001b[38;5;34m0\u001b[0m]  │\n",
       "├─────────────────────┼───────────────────┼────────────┼───────────────────┤\n",
       "│ dense_286 (\u001b[38;5;33mDense\u001b[0m)   │ (\u001b[38;5;45mNone\u001b[0m, \u001b[38;5;34m1024\u001b[0m)      │     \u001b[38;5;34m33,792\u001b[0m │ dense_285[\u001b[38;5;34m0\u001b[0m][\u001b[38;5;34m0\u001b[0m]   │\n",
       "└─────────────────────┴───────────────────┴────────────┴───────────────────┘\n"
      ]
     },
     "metadata": {},
     "output_type": "display_data"
    },
    {
     "data": {
      "text/html": [
       "<pre style=\"white-space:pre;overflow-x:auto;line-height:normal;font-family:Menlo,'DejaVu Sans Mono',consolas,'Courier New',monospace\"><span style=\"font-weight: bold\"> Total params: </span><span style=\"color: #00af00; text-decoration-color: #00af00\">68,094</span> (265.99 KB)\n",
       "</pre>\n"
      ],
      "text/plain": [
       "\u001b[1m Total params: \u001b[0m\u001b[38;5;34m68,094\u001b[0m (265.99 KB)\n"
      ]
     },
     "metadata": {},
     "output_type": "display_data"
    },
    {
     "data": {
      "text/html": [
       "<pre style=\"white-space:pre;overflow-x:auto;line-height:normal;font-family:Menlo,'DejaVu Sans Mono',consolas,'Courier New',monospace\"><span style=\"font-weight: bold\"> Trainable params: </span><span style=\"color: #00af00; text-decoration-color: #00af00\">68,094</span> (265.99 KB)\n",
       "</pre>\n"
      ],
      "text/plain": [
       "\u001b[1m Trainable params: \u001b[0m\u001b[38;5;34m68,094\u001b[0m (265.99 KB)\n"
      ]
     },
     "metadata": {},
     "output_type": "display_data"
    },
    {
     "data": {
      "text/html": [
       "<pre style=\"white-space:pre;overflow-x:auto;line-height:normal;font-family:Menlo,'DejaVu Sans Mono',consolas,'Courier New',monospace\"><span style=\"font-weight: bold\"> Non-trainable params: </span><span style=\"color: #00af00; text-decoration-color: #00af00\">0</span> (0.00 B)\n",
       "</pre>\n"
      ],
      "text/plain": [
       "\u001b[1m Non-trainable params: \u001b[0m\u001b[38;5;34m0\u001b[0m (0.00 B)\n"
      ]
     },
     "metadata": {},
     "output_type": "display_data"
    }
   ],
   "source": [
    "latent_dim = n  # same latent size as your AE\n",
    "beta = 0.1     # KL weight, tune if you want\n",
    "\n",
    "# Custom Sampling layer with KL divergence loss\n",
    "class Sampling(layers.Layer):\n",
    "    def call(self, inputs):\n",
    "        z_mean, z_logvar = inputs\n",
    "        eps = tf.random.normal(shape=tf.shape(z_mean))\n",
    "        z = z_mean + tf.exp(0.5 * z_logvar) * eps\n",
    "        kl_loss = -0.5 * tf.reduce_mean(\n",
    "            1 + z_logvar - tf.square(z_mean) - tf.exp(z_logvar)\n",
    "        )\n",
    "        self.add_loss(beta * kl_loss)\n",
    "        return z\n",
    "\n",
    "# Encoder\n",
    "vae_input = layers.Input(shape=(M,))\n",
    "h_enc = layers.Dense(32, activation='relu')(vae_input)\n",
    "z_mean = layers.Dense(latent_dim)(h_enc)\n",
    "z_logvar = layers.Dense(latent_dim)(h_enc)\n",
    "z = Sampling()([z_mean, z_logvar])\n",
    "\n",
    "# Power normalization (use your existing power_norm function)\n",
    "z_norm = layers.Lambda(power_norm)(z)\n",
    "\n",
    "# AWGN noise (use your existing add_noise function)\n",
    "z_noisy = layers.Lambda(add_noise)(z_norm)\n",
    "\n",
    "# Decoder\n",
    "h_dec = layers.Dense(32, activation='relu')(z_noisy)\n",
    "vae_output = layers.Dense(M, activation='softmax')(h_dec)\n",
    "\n",
    "vae = Model(vae_input, vae_output)\n",
    "vae.compile(optimizer='adam', loss='categorical_crossentropy',metrics=['accuracy'])\n",
    "vae.summary()\n"
   ]
  },
  {
   "cell_type": "markdown",
   "id": "5d087434-581e-43ad-bf06-074d31d6b08e",
   "metadata": {},
   "source": [
    "## Training"
   ]
  },
  {
   "cell_type": "code",
   "execution_count": 348,
   "id": "07300295-0fb4-43b1-9c62-047ca05ceba9",
   "metadata": {},
   "outputs": [
    {
     "name": "stdout",
     "output_type": "stream",
     "text": [
      "Epoch 1/20\n",
      "157/157 - 1s - 7ms/step - accuracy: 0.0013 - loss: 6.9339\n",
      "Epoch 2/20\n",
      "157/157 - 0s - 3ms/step - accuracy: 0.0091 - loss: 6.6570\n",
      "Epoch 3/20\n",
      "157/157 - 0s - 3ms/step - accuracy: 0.1461 - loss: 5.0382\n",
      "Epoch 4/20\n",
      "157/157 - 0s - 3ms/step - accuracy: 0.4262 - loss: 3.4497\n",
      "Epoch 5/20\n",
      "157/157 - 0s - 3ms/step - accuracy: 0.6412 - loss: 2.3991\n",
      "Epoch 6/20\n",
      "157/157 - 0s - 3ms/step - accuracy: 0.7678 - loss: 1.7169\n",
      "Epoch 7/20\n",
      "157/157 - 0s - 3ms/step - accuracy: 0.8370 - loss: 1.2892\n",
      "Epoch 8/20\n",
      "157/157 - 0s - 3ms/step - accuracy: 0.8716 - loss: 1.0260\n",
      "Epoch 9/20\n",
      "157/157 - 0s - 3ms/step - accuracy: 0.8917 - loss: 0.8548\n",
      "Epoch 10/20\n",
      "157/157 - 0s - 3ms/step - accuracy: 0.9049 - loss: 0.7384\n",
      "Epoch 11/20\n",
      "157/157 - 0s - 3ms/step - accuracy: 0.9171 - loss: 0.6594\n",
      "Epoch 12/20\n",
      "157/157 - 0s - 3ms/step - accuracy: 0.9204 - loss: 0.6082\n",
      "Epoch 13/20\n",
      "157/157 - 0s - 3ms/step - accuracy: 0.9280 - loss: 0.5584\n",
      "Epoch 14/20\n",
      "157/157 - 0s - 3ms/step - accuracy: 0.9348 - loss: 0.5176\n",
      "Epoch 15/20\n",
      "157/157 - 0s - 3ms/step - accuracy: 0.9369 - loss: 0.4933\n",
      "Epoch 16/20\n",
      "157/157 - 0s - 3ms/step - accuracy: 0.9388 - loss: 0.4724\n",
      "Epoch 17/20\n",
      "157/157 - 0s - 3ms/step - accuracy: 0.9453 - loss: 0.4469\n",
      "Epoch 18/20\n",
      "157/157 - 0s - 3ms/step - accuracy: 0.9451 - loss: 0.4312\n",
      "Epoch 19/20\n",
      "157/157 - 0s - 3ms/step - accuracy: 0.9471 - loss: 0.4204\n",
      "Epoch 20/20\n",
      "157/157 - 0s - 3ms/step - accuracy: 0.9465 - loss: 0.4133\n"
     ]
    }
   ],
   "source": [
    "# Training\n",
    "vae.fit(one_hot, one_hot, epochs=20, batch_size=256,verbose=2)\n",
    "\n",
    "# Encoder model for inference: use z_mean (mean of latent) to avoid randomness\n",
    "enc_vae = Model(vae_input, z_mean)"
   ]
  },
  {
   "cell_type": "markdown",
   "id": "cd05ad86-332c-4897-bdaf-2ed73c83135e",
   "metadata": {},
   "source": [
    "## Block Error Rate for Variational AutoEncoder"
   ]
  },
  {
   "cell_type": "code",
   "execution_count": 349,
   "id": "907277ae-8f06-44bf-853a-b406053b3da0",
   "metadata": {},
   "outputs": [],
   "source": [
    "def evaluate_bler_vae(EbN0_dB, num_samples=10000):\n",
    "    msgs = np.random.randint(0, M, num_samples)\n",
    "    x = tf.one_hot(msgs, depth=M).numpy()\n",
    "    s = enc_vae(x).numpy()\n",
    "    s = power_norm(tf.convert_to_tensor(s)).numpy()  # power normalize latent vectors\n",
    "    EbN0 = 10 ** (EbN0_dB / 10)\n",
    "    sigma = np.sqrt(1 / (2 * R * EbN0))\n",
    "    r = s + np.random.normal(0, sigma, s.shape)\n",
    "    logits = vae.layers[-1](vae.layers[-2](r))\n",
    "    preds = np.argmax(logits.numpy(), axis=1)\n",
    "    return np.mean(preds != msgs)"
   ]
  },
  {
   "cell_type": "markdown",
   "id": "57c8bcec-d7e3-492b-aaeb-3e64b1c0df90",
   "metadata": {},
   "source": [
    "## Block Error Rate for AutoEncoder"
   ]
  },
  {
   "cell_type": "code",
   "execution_count": 350,
   "id": "1d8f3fbb-508a-4800-b827-80b47ab0bfd5",
   "metadata": {},
   "outputs": [],
   "source": [
    "def evaluate_bler_autoencoder(EbN0_dB, num_samples=10000):\n",
    "    messages = np.random.randint(0, M, size=num_samples)\n",
    "    x = tf.one_hot(messages, depth=M).numpy()\n",
    "    s = encoder(x).numpy()\n",
    "    EbN0 = 10**(EbN0_dB/10)\n",
    "    sigma = np.sqrt(1/(2*R*EbN0))\n",
    "    noise = np.random.normal(0, sigma, s.shape)\n",
    "    r = s + noise\n",
    "    # Pass through decoder only (reuse model)\n",
    "    decoded_logits = autoencoder.layers[-1](autoencoder.layers[-2](r))\n",
    "    preds = np.argmax(decoded_logits.numpy(), axis=1)\n",
    "    return np.mean(preds != messages)"
   ]
  },
  {
   "cell_type": "markdown",
   "id": "7b9d3917-42a1-4869-89db-f117c9f3c0aa",
   "metadata": {},
   "source": [
    "## Block Error Rate for BPSK"
   ]
  },
  {
   "cell_type": "code",
   "execution_count": 351,
   "id": "f6e17d32-d0c9-4609-9bdb-a5e6fcf18ed9",
   "metadata": {},
   "outputs": [],
   "source": [
    "def int_to_bits(msgs, k):\n",
    "    \"\"\"Vectorised: int array -> binary matrix of shape (N, k) with MSB first.\"\"\"\n",
    "    powers = 1 << np.arange(k-1, -1, -1)\n",
    "    return ((msgs[:, None] & powers) > 0).astype(np.int8)\n",
    "\n",
    "def bits_to_int(bits):\n",
    "    \"\"\"Inverse of int_to_bits.\"\"\"\n",
    "    k = bits.shape[1]\n",
    "    powers = 1 << np.arange(k-1, -1, -1)\n",
    "    return (bits * powers).sum(axis=1)\n",
    "\n",
    "def evaluate_bler_bpsk(EbN0_dB, num_samples=10000):\n",
    "    messages = np.random.randint(0, M, size=num_samples)\n",
    "    bits     = int_to_bits(messages, k)        # shape (N, k)\n",
    "\n",
    "    symbols  = 1 - 2*bits                      # BPSK: 0→+1, 1→–1\n",
    "\n",
    "    EbN0     = 10**(EbN0_dB/10)\n",
    "    sigma    = np.sqrt(1/(2*EbN0))             # Es=1 for each bit\n",
    "    noise    = np.random.normal(0, sigma, symbols.shape)\n",
    "    r        = symbols + noise\n",
    "\n",
    "    bits_hat = (r < 0).astype(np.int8)         # hard decision\n",
    "    messages_hat = bits_to_int(bits_hat)\n",
    "\n",
    "    return np.mean(messages_hat != messages)"
   ]
  },
  {
   "cell_type": "markdown",
   "id": "da463da0-defa-4008-948e-46e91b77b19e",
   "metadata": {},
   "source": [
    "## Block Error Rate for Hamming MLD"
   ]
  },
  {
   "cell_type": "code",
   "execution_count": 352,
   "id": "134e2cbc-d613-4e7a-a003-c81eab9816a9",
   "metadata": {},
   "outputs": [],
   "source": [
    "# -----------------------------------------------------------\n",
    "#  Hamming (7,4) code + maximum‑likelihood decoding\n",
    "# -----------------------------------------------------------\n",
    "k_h, n_h = 4, 7\n",
    "R_h      = k_h / n_h\n",
    "\n",
    "# Systematic [I | P] generator matrix for (7,4)\n",
    "G = np.array([[1,0,0,0,0,1,1],\n",
    "              [0,1,0,0,1,0,1],\n",
    "              [0,0,1,0,1,1,0],\n",
    "              [0,0,0,1,1,1,1]], dtype=np.int8)\n",
    "\n",
    "# Pre‑compute all 16 codewords and their BPSK symbols\n",
    "info_all     = ((np.arange(16)[:,None] & (1<<np.arange(k_h-1,-1,-1))) > 0).astype(np.int8)\n",
    "cw_bits      = (info_all @ G) % 2          # (16,7)\n",
    "codebook_sym = 1 - 2 * cw_bits             # BPSK +1/‑1\n",
    "\n",
    "def evaluate_bler_hamming(EbN0_dB, num_samples=10000):\n",
    "    # use the least‑significant 4 bits of each message\n",
    "    msgs4   = np.random.randint(0, 16, size=num_samples)\n",
    "    info    = ((msgs4[:,None] & (1<<np.arange(k_h-1,-1,-1))) > 0).astype(np.int8)\n",
    "    cw_bits = (info @ G) % 2\n",
    "    tx_sym  = 1 - 2 * cw_bits\n",
    "\n",
    "    EbN0  = 10**(EbN0_dB/10)\n",
    "    sigma = np.sqrt(1 / (2 * R_h * EbN0))\n",
    "    noise = np.random.normal(0, sigma, tx_sym.shape)\n",
    "    r     = tx_sym + noise\n",
    "\n",
    "    # MLD: choose codeword with minimum Euclidean distance\n",
    "    dists = np.sum((r[:,None,:] - codebook_sym[None,:,:])**2, axis=2)\n",
    "    preds = np.argmin(dists, axis=1)\n",
    "    return np.mean(preds != msgs4)\n"
   ]
  },
  {
   "cell_type": "markdown",
   "id": "c0a6c165-2849-42b9-a5cf-9a28e20f3c6a",
   "metadata": {},
   "source": [
    "# Block Error Rate Vs Signal to Noise Ratio"
   ]
  },
  {
   "cell_type": "code",
   "execution_count": 357,
   "id": "e596bd23-d182-426d-9311-68febb7bbdd2",
   "metadata": {},
   "outputs": [
    {
     "data": {
      "image/png": "[encoded data removed]",
      "text/plain": [
       "<Figure size 700x500 with 1 Axes>"
      ]
     },
     "metadata": {},
     "output_type": "display_data"
    }
   ],
   "source": [
    "EbN0_dB_range = np.arange(-5, 8, 1)\n",
    "bler_auto = []\n",
    "bler_bpsk = []\n",
    "bler_vae = []\n",
    "bler_hamm = []  \n",
    "for snr_db in EbN0_dB_range:\n",
    "    bler_vae.append(evaluate_bler_vae(snr_db))\n",
    "    bler_auto.append(evaluate_bler_autoencoder(snr_db))\n",
    "    bler_bpsk.append(evaluate_bler_bpsk(snr_db))\n",
    "    bler_hamm.append(evaluate_bler_hamming(snr_db)) \n",
    "\n",
    "# --- Plot ---\n",
    "plt.figure()\n",
    "plt.semilogy(EbN0_dB_range, bler_auto, marker='.', color='red', label='Autoencoder')\n",
    "\n",
    "\n",
    "plt.semilogy(EbN0_dB_range, bler_bpsk,color='blue', label='Uncoded BPSK')\n",
    "\n",
    "\n",
    "plt.semilogy(EbN0_dB_range, bler_vae,marker='s', color='darkorchid', label='Variational AE')\n",
    "\n",
    "plt.xlabel('Eb/N0 (dB)')\n",
    "plt.ylabel('BLER (log scale)')\n",
    "plt.title('BLER vs Eb/N0')\n",
    "plt.grid(True, which='both')\n",
    "plt.legend()\n",
    "plt.tight_layout()\n",
    "plt.show()"
   ]
  },
  {
   "cell_type": "code",
   "execution_count": null,
   "id": "f6eb590a-8629-4b0e-919b-81094681f8cf",
   "metadata": {},
   "outputs": [],
   "source": []
  }
 ],
 "metadata": {
  "kernelspec": {
   "display_name": "Python 3 (ipykernel)",
   "language": "python",
   "name": "python3"
  },
  "language_info": {
   "codemirror_mode": {
    "name": "ipython",
    "version": 3
   },
   "file_extension": ".py",
   "mimetype": "text/x-python",
   "name": "python",
   "nbconvert_exporter": "python",
   "pygments_lexer": "ipython3",
   "version": "3.11.7"
  }
 },
 "nbformat": 4,
 "nbformat_minor": 5
}
